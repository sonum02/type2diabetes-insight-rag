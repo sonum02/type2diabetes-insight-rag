{
  "nbformat": 4,
  "nbformat_minor": 0,
  "metadata": {
    "colab": {
      "provenance": [],
      "gpuType": "T4",
      "mount_file_id": "1kmEYWmkB1SAgekglr5x7SnsIbD8CL8Mf",
      "authorship_tag": "ABX9TyMvkS1h2MH4D6LbnpRZMnl5",
      "include_colab_link": true
    },
    "kernelspec": {
      "name": "python3",
      "display_name": "Python 3"
    },
    "language_info": {
      "name": "python"
    }
  },
  "cells": [
    {
      "cell_type": "markdown",
      "metadata": {
        "id": "view-in-github",
        "colab_type": "text"
      },
      "source": [
        "<a href=\"https://colab.research.google.com/github/sonum02/type2diabetes-insight-rag/blob/main/Type2DiabetesAssistant.ipynb\" target=\"_parent\"><img src=\"https://colab.research.google.com/assets/colab-badge.svg\" alt=\"Open In Colab\"/></a>"
      ]
    },
    {
      "cell_type": "code",
      "execution_count": null,
      "metadata": {
        "collapsed": true,
        "id": "2Y_PZzXv-bYx"
      },
      "outputs": [],
      "source": [
        "#Get data from recent articles on Type 2 Diabetes in PDF files\n",
        "!pip install unstructured[pdf]\n",
        "!pip install -U langchain-community #Installing langchain community\n",
        "from langchain.document_loaders import DirectoryLoader #Import after the kernel has been restarted\n",
        "\n",
        "DATA_PATH= \"/content/Type2DiabetesPapers\"\n",
        "def load_documents(data_path):\n",
        "    loader = DirectoryLoader(data_path)\n",
        "    documents = loader.load()\n",
        "    return documents\n",
        "mydocuments = load_documents(DATA_PATH)\n"
      ]
    },
    {
      "cell_type": "code",
      "source": [
        "#Scrape Mayo website article\n",
        "import requests\n",
        "from bs4 import BeautifulSoup\n",
        "from langchain.schema import Document #Import the document class\n",
        "\n",
        "# Funtion to get contents of the target website:\n",
        "def get_website_content(url):\n",
        "    response = requests.get(url)\n",
        "    response.raise_for_status()  # Ensure successful response\n",
        "    soup = BeautifulSoup(response.content, \"html.parser\")\n",
        "    return soup.get_text()  # Extract text content\n",
        "\n",
        "#Calling the function to get contents of the website into website_content variable\n",
        "website_url = \"https://www.mayoclinic.org/diseases-conditions/type-2-diabetes/symptoms-causes/syc-20351193\"\n",
        "website_content = get_website_content(website_url)"
      ],
      "metadata": {
        "id": "au9hNJrjAGgH",
        "collapsed": true
      },
      "execution_count": null,
      "outputs": []
    },
    {
      "cell_type": "code",
      "source": [
        "# Get Diabetes dataset file (Kaggle.json) from Kaggle to Kaggle drive and unzip\n",
        "!pip install kaggle\n",
        "# Mount google drive\n",
        "from google.colab import drive\n",
        "drive.mount('/content/drive')\n",
        "\n",
        "! mkdir ~/.Kaggle\n",
        "! cp /content/drive/MyDrive/kaggle.json ~/.Kaggle/\n",
        "! chmod 600 ~/.Kaggle/kaggle.json\n",
        "!kaggle datasets download mathchi/diabetes-data-set\n",
        "! unzip diabetes-data-set.zip"
      ],
      "metadata": {
        "id": "eU1Pns4sDyAi",
        "collapsed": true
      },
      "execution_count": null,
      "outputs": []
    },
    {
      "cell_type": "code",
      "source": [
        "# Load Kaggle dataset and append my docuemnts (recent papers) and Kaggle data\n",
        "!pip install unstructured\n",
        "from langchain_community.document_loaders import CSVLoader\n",
        "\n",
        "DATA_PATH_KaggleData= \"/content/diabetes.csv\"\n",
        "def load_documents(data_path_KaggleData):\n",
        "    loader = CSVLoader(file_path=data_path_KaggleData)\n",
        "    documents = loader.load()\n",
        "    return documents\n",
        "\n",
        "KaggleData = load_documents(DATA_PATH_KaggleData)\n",
        "\n",
        "# Consolidating data from 3 sources: Recent research papers, Kaggle and Mayo website.\n",
        "AllData = mydocuments + KaggleData + [Document(page_content=website_content)]"
      ],
      "metadata": {
        "collapsed": true,
        "id": "YHbxem0npfl_"
      },
      "execution_count": null,
      "outputs": []
    },
    {
      "cell_type": "code",
      "source": [
        "#RAG Retriever\n",
        "from langchain_text_splitters import RecursiveCharacterTextSplitter\n",
        "\n",
        "#1: Text Splitter/ Chunking\n",
        "text_splitter= RecursiveCharacterTextSplitter(\n",
        "    chunk_size=1000,\n",
        "    chunk_overlap=500,\n",
        "    length_function=len,\n",
        "    add_start_index=True\n",
        ")\n",
        "#2: Splits/ Chunks\n",
        "chunks= text_splitter.split_documents(AllData)\n",
        "\n",
        "#Creating embeddings in VectorDB\n",
        "!pip install chromadb\n",
        "!pip install tiktoken\n",
        "from langchain.embeddings import OpenAIEmbeddings\n",
        "from langchain.vectorstores import Chroma\n",
        "from google.colab import userdata\n",
        "embeddings = OpenAIEmbeddings(openai_api_key=userdata.get(\"OpenAIKey\"))\n",
        "\n",
        "#3: Vector Store\n",
        "VectorDB=Chroma.from_documents(\n",
        "    documents=chunks,\n",
        "    embedding=embeddings\n",
        ")\n",
        "\n",
        "#4: Retriever\n",
        "retriever=VectorDB.as_retriever()"
      ],
      "metadata": {
        "id": "rhWqtoCLtdDS",
        "collapsed": true
      },
      "execution_count": null,
      "outputs": []
    },
    {
      "cell_type": "code",
      "source": [
        "#LLM\n",
        "import os\n",
        "from google.colab import userdata\n",
        "from langchain.chat_models import ChatOpenAI\n",
        "\n",
        "\n",
        "# Attempt to get the API key from userdata, fallback to environment variable\n",
        "openai_api_key = userdata.get('OpenAIKey')\n",
        "if openai_api_key is None:\n",
        "    openai_api_key = os.environ.get('OPENAI_API_KEY')\n",
        "    if openai_api_key is None:\n",
        "        raise ValueError(\"Please set either the 'OpenAIKey' in userdata or the 'OPENAI_API_KEY' environment variable.\")\n",
        "\n",
        "#Connect to LLM/ GPT model\n",
        "model = ChatOpenAI(openai_api_key=openai_api_key, model=\"gpt-3.5-turbo\")"
      ],
      "metadata": {
        "collapsed": true,
        "id": "3lcPYpZ8MdH4"
      },
      "execution_count": null,
      "outputs": []
    },
    {
      "cell_type": "code",
      "source": [
        "# RAG Chain\n",
        "from langchain.chains import create_retrieval_chain\n",
        "from langchain.chains.combine_documents import create_stuff_documents_chain\n",
        "from langchain_core.prompts import ChatPromptTemplate\n",
        "\n",
        "system_prompt = (\n",
        "    \"You are an assistant for question-answering tasks. \"\n",
        "    \"Use the following pieces of retrieved context to answer \"\n",
        "    \"the question. If you don't know the answer, say that you \"\n",
        "    \"don't know. Use three sentences maximum and keep the \"\n",
        "    \"answer concise.\"\n",
        "    \"\\n\\n\"\n",
        "    \"{context}\"\n",
        ")\n",
        "\n",
        "prompt = ChatPromptTemplate.from_messages(\n",
        "    [\n",
        "        (\"system\", system_prompt),\n",
        "        (\"human\", \"{input}\"),\n",
        "    ]\n",
        ")\n",
        "\n",
        "question_answer_chain = create_stuff_documents_chain(model, prompt)\n",
        "rag_chain = create_retrieval_chain(retriever, question_answer_chain)"
      ],
      "metadata": {
        "collapsed": true,
        "id": "PFwZzMihzvu4"
      },
      "execution_count": null,
      "outputs": []
    },
    {
      "cell_type": "code",
      "source": [
        "# RAG chain with Chat history\n",
        "from langchain.chains import create_history_aware_retriever\n",
        "from langchain_core.prompts import MessagesPlaceholder\n",
        "\n",
        "contextualize_q_system_prompt = (\n",
        "    \"Given a chat history and the latest user question \"\n",
        "    \"which might reference context in the chat history, \"\n",
        "    \"formulate a standalone question which can be understood \"\n",
        "    \"without the chat history. Do NOT answer the question, \"\n",
        "    \"just reformulate it if needed and otherwise return it as is.\"\n",
        ")\n",
        "\n",
        "contextualize_q_prompt = ChatPromptTemplate.from_messages(\n",
        "    [\n",
        "        (\"system\", contextualize_q_system_prompt),\n",
        "        MessagesPlaceholder(\"chat_history\"),\n",
        "        (\"human\", \"{input}\"),\n",
        "    ]\n",
        ")\n",
        "history_aware_retriever = create_history_aware_retriever(\n",
        "    model, retriever, contextualize_q_prompt\n",
        ")\n",
        "qa_prompt = ChatPromptTemplate.from_messages(\n",
        "    [\n",
        "        (\"system\", system_prompt),\n",
        "        MessagesPlaceholder(\"chat_history\"),\n",
        "        (\"human\", \"{input}\"),\n",
        "    ]\n",
        ")\n",
        "\n",
        "\n",
        "question_answer_chain_wHistory = create_stuff_documents_chain(model, qa_prompt)\n",
        "\n",
        "rag_chain_wHistory = create_retrieval_chain(history_aware_retriever, question_answer_chain_wHistory)"
      ],
      "metadata": {
        "id": "1Fav07syOA-k"
      },
      "execution_count": null,
      "outputs": []
    },
    {
      "cell_type": "code",
      "source": [
        "# GUI Gradio\n",
        "!pip install gradio\n",
        "import gradio as gr\n",
        "from langchain_core.messages import AIMessage, HumanMessage\n",
        "\n",
        "chat_history = []\n",
        "\n",
        "def predict(message, history):\n",
        "    response = rag_chain_wHistory.invoke({\"input\": message,\"chat_history\": chat_history})\n",
        "    chat_history.extend(\n",
        "    [\n",
        "        HumanMessage(content=message),\n",
        "        AIMessage(content=response[\"answer\"]),\n",
        "    ]\n",
        ")\n",
        "    return response['answer']\n",
        "\n",
        "\n",
        "demo = gr.ChatInterface(\n",
        "    predict,\n",
        "    chatbot=gr.Chatbot(height=200, type=\"messages\"),\n",
        "    textbox=gr.Textbox(\n",
        "        placeholder=\"Ask me anything about Type2 Diabetes\",\n",
        "        container=False,\n",
        "        scale=7\n",
        "    ),\n",
        "    title=\"Type2 Diabetes Assistant\",\n",
        "    description=\"I can help answer questions about Type2 Diabetes symptoms, treatment and prevention.\",\n",
        "    theme=\"soft\",\n",
        "    )\n",
        "\n",
        "demo.launch(share='True')"
      ],
      "metadata": {
        "id": "6sCk0oJhLKOC"
      },
      "execution_count": null,
      "outputs": []
    }
  ]
}